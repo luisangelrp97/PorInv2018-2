{
 "cells": [
  {
   "cell_type": "markdown",
   "metadata": {},
   "source": [
    "# Diversificación y fuentes de riesgo en un portafolio II - Una ilustración con mercados internacionales.\n",
    "\n",
    "<img style=\"float: right; margin: 0px 0px 15px 15px;\" src=\"https://upload.wikimedia.org/wikipedia/commons/5/5f/Map_International_Markets.jpg\" width=\"500px\" height=\"300px\" />\n",
    "\n",
    "> Entonces, la clase pasada vimos cómo afecta la correlación entre pares de activos en un portafolio. Dijimos que como un par de activos nunca tienen correlación perfecta, al combinarlos en un portafolio siempre conseguimos diversificación del riesgo.\n",
    "\n",
    "> Vimos también que no todo el riesgo se puede diversificar. Dos fuentes de riesgo:\n",
    "> - Sistemático: afecta de igual manera a todos los activos. No se puede diversificar.\n",
    "> - Idiosincrático: afecta a cada activo en particular por razones específicas. Se puede diversificar.\n",
    "\n",
    "En esta clase veremos un ejemplo de diversificación en un portafolio, usando datos de mercados de activos internacionales.\n",
    "\n",
    "En el camino, definiremos términos como *frontera media/varianza*, *portafolio de varianza mínima* y *portafolios eficientes*, los cuales son básicos para la construcción de la **teoría moderna de portafolios**.\n",
    "\n",
    "Estos portafolios los aprenderemos a obtener formalmente en el siguiente módulo. Por ahora nos bastará con agarrar intuición."
   ]
  },
  {
   "cell_type": "markdown",
   "metadata": {},
   "source": [
    "**Objetivo:**\n",
    "- Ver los beneficios de la diversificación ilustrativamente.\n",
    "- ¿Qué es la frontera de mínima varianza?\n",
    "- ¿Qué son el portafolio de varianza mínima y portafolios eficientes?\n",
    "\n",
    "*Referencia:*\n",
    "- Notas del curso \"Portfolio Selection and Risk Management\", Rice University, disponible en Coursera.\n",
    "___"
   ]
  },
  {
   "cell_type": "markdown",
   "metadata": {},
   "source": [
    "## 1. Ejemplo\n",
    "\n",
    "**Los datos:** tenemos el siguiente reporte de rendimientos esperados y volatilidad (anuales) para los mercados de acciones en los países integrandes del $G5$: EU, RU, Francia, Alemania y Japón."
   ]
  },
  {
   "cell_type": "code",
   "execution_count": 1,
   "metadata": {},
   "outputs": [],
   "source": [
    "# Importamos pandas y numpy\n",
    "import pandas as pd\n",
    "import numpy as np"
   ]
  },
  {
   "cell_type": "code",
   "execution_count": 2,
   "metadata": {},
   "outputs": [
    {
     "data": {
      "text/html": [
       "<div>\n",
       "<style scoped>\n",
       "    .dataframe tbody tr th:only-of-type {\n",
       "        vertical-align: middle;\n",
       "    }\n",
       "\n",
       "    .dataframe tbody tr th {\n",
       "        vertical-align: top;\n",
       "    }\n",
       "\n",
       "    .dataframe thead th {\n",
       "        text-align: right;\n",
       "    }\n",
       "</style>\n",
       "<table border=\"1\" class=\"dataframe\">\n",
       "  <thead>\n",
       "    <tr style=\"text-align: right;\">\n",
       "      <th></th>\n",
       "      <th>EU</th>\n",
       "      <th>RU</th>\n",
       "      <th>Francia</th>\n",
       "      <th>Alemania</th>\n",
       "      <th>Japon</th>\n",
       "    </tr>\n",
       "  </thead>\n",
       "  <tbody>\n",
       "    <tr>\n",
       "      <th>Media</th>\n",
       "      <td>0.1355</td>\n",
       "      <td>0.1589</td>\n",
       "      <td>0.1519</td>\n",
       "      <td>0.1435</td>\n",
       "      <td>0.1497</td>\n",
       "    </tr>\n",
       "    <tr>\n",
       "      <th>Volatilidad</th>\n",
       "      <td>0.1535</td>\n",
       "      <td>0.243</td>\n",
       "      <td>0.2324</td>\n",
       "      <td>0.2038</td>\n",
       "      <td>0.2298</td>\n",
       "    </tr>\n",
       "  </tbody>\n",
       "</table>\n",
       "</div>"
      ],
      "text/plain": [
       "                 EU      RU Francia Alemania   Japon\n",
       "Media        0.1355  0.1589  0.1519   0.1435  0.1497\n",
       "Volatilidad  0.1535   0.243  0.2324   0.2038  0.2298"
      ]
     },
     "execution_count": 2,
     "metadata": {},
     "output_type": "execute_result"
    }
   ],
   "source": [
    "# Resumen en base anual de rendimientos esperados y volatilidades\n",
    "annual_ret_summ = pd.DataFrame(columns=['EU', 'RU', 'Francia', 'Alemania', 'Japon'], index=['Media', 'Volatilidad'])\n",
    "annual_ret_summ.loc['Media'] = np.array([0.1355, 0.1589, 0.1519, 0.1435, 0.1497])\n",
    "annual_ret_summ.loc['Volatilidad'] = np.array([0.1535, 0.2430, 0.2324, 0.2038, 0.2298])\n",
    "\n",
    "annual_ret_summ.round(4)"
   ]
  },
  {
   "cell_type": "markdown",
   "metadata": {},
   "source": [
    "¿Qué podemos notar?\n",
    "- Los rendimientos esperados rondan todos por los mismos valores 14%-15%.\n",
    "- En cuanto al riesgo, la medida de riesgo del mercado de Estados Unidos  es mucho menor respecto a las demás."
   ]
  },
  {
   "cell_type": "markdown",
   "metadata": {},
   "source": [
    "Además, tenemos el siguiente reporte de la matriz de correlación:"
   ]
  },
  {
   "cell_type": "code",
   "execution_count": 3,
   "metadata": {},
   "outputs": [
    {
     "data": {
      "text/html": [
       "<div>\n",
       "<style scoped>\n",
       "    .dataframe tbody tr th:only-of-type {\n",
       "        vertical-align: middle;\n",
       "    }\n",
       "\n",
       "    .dataframe tbody tr th {\n",
       "        vertical-align: top;\n",
       "    }\n",
       "\n",
       "    .dataframe thead th {\n",
       "        text-align: right;\n",
       "    }\n",
       "</style>\n",
       "<table border=\"1\" class=\"dataframe\">\n",
       "  <thead>\n",
       "    <tr style=\"text-align: right;\">\n",
       "      <th></th>\n",
       "      <th>EU</th>\n",
       "      <th>RU</th>\n",
       "      <th>Francia</th>\n",
       "      <th>Alemania</th>\n",
       "      <th>Japon</th>\n",
       "    </tr>\n",
       "  </thead>\n",
       "  <tbody>\n",
       "    <tr>\n",
       "      <th>EU</th>\n",
       "      <td>1.0000</td>\n",
       "      <td>0.5003</td>\n",
       "      <td>0.4398</td>\n",
       "      <td>0.3681</td>\n",
       "      <td>0.2663</td>\n",
       "    </tr>\n",
       "    <tr>\n",
       "      <th>RU</th>\n",
       "      <td>0.5003</td>\n",
       "      <td>1.0000</td>\n",
       "      <td>0.5420</td>\n",
       "      <td>0.4265</td>\n",
       "      <td>0.3581</td>\n",
       "    </tr>\n",
       "    <tr>\n",
       "      <th>Francia</th>\n",
       "      <td>0.4398</td>\n",
       "      <td>0.5420</td>\n",
       "      <td>1.0000</td>\n",
       "      <td>0.6032</td>\n",
       "      <td>0.3923</td>\n",
       "    </tr>\n",
       "    <tr>\n",
       "      <th>Alemania</th>\n",
       "      <td>0.3681</td>\n",
       "      <td>0.4265</td>\n",
       "      <td>0.6032</td>\n",
       "      <td>1.0000</td>\n",
       "      <td>0.3663</td>\n",
       "    </tr>\n",
       "    <tr>\n",
       "      <th>Japon</th>\n",
       "      <td>0.2663</td>\n",
       "      <td>0.3581</td>\n",
       "      <td>0.3923</td>\n",
       "      <td>0.3663</td>\n",
       "      <td>1.0000</td>\n",
       "    </tr>\n",
       "  </tbody>\n",
       "</table>\n",
       "</div>"
      ],
      "text/plain": [
       "              EU      RU  Francia  Alemania   Japon\n",
       "EU        1.0000  0.5003   0.4398    0.3681  0.2663\n",
       "RU        0.5003  1.0000   0.5420    0.4265  0.3581\n",
       "Francia   0.4398  0.5420   1.0000    0.6032  0.3923\n",
       "Alemania  0.3681  0.4265   0.6032    1.0000  0.3663\n",
       "Japon     0.2663  0.3581   0.3923    0.3663  1.0000"
      ]
     },
     "execution_count": 3,
     "metadata": {},
     "output_type": "execute_result"
    }
   ],
   "source": [
    "# Matriz de correlación\n",
    "corr = pd.DataFrame(data= np.array([[1.0000, 0.5003, 0.4398, 0.3681, 0.2663],\n",
    "                                    [0.5003, 1.0000, 0.5420, 0.4265, 0.3581],\n",
    "                                    [0.4398, 0.5420, 1.0000, 0.6032, 0.3923],\n",
    "                                    [0.3681, 0.4265, 0.6032, 1.0000, 0.3663],\n",
    "                                    [0.2663, 0.3581, 0.3923, 0.3663, 1.0000]]),\n",
    "                    columns=annual_ret_summ.columns, index=annual_ret_summ.columns)\n",
    "corr.round(4)"
   ]
  },
  {
   "cell_type": "markdown",
   "metadata": {},
   "source": [
    "¿Qué se puede observar?\n",
    "- Los mercados de acciones que presentan la correlación más baja son los de EU y Japón.\n",
    "\n",
    "Recordar: correlaciones bajas significan una gran oportunidad para diversificación."
   ]
  },
  {
   "cell_type": "markdown",
   "metadata": {},
   "source": [
    "### Nos enfocaremos entonces únicamente en dos mercados: EU y Japón\n",
    "\n",
    "- ¿Cómo construiríamos un portafolio que consiste de los mercados de acciones de EU y Japón?\n",
    "- ¿Cuáles serían las posibles combinaciones?"
   ]
  },
  {
   "cell_type": "markdown",
   "metadata": {},
   "source": [
    "#### 1. Supongamos que $w$ es la participación del mercado de EU en nuestro portafolio.\n",
    "- ¿Cuál es la participación del mercado de Japón entonces?\n",
    "\n",
    "- Luego, nuestras fórmulas de rendimiento esperado y varianza de portafolios son:\n",
    "\n",
    "$$Rendimiento$$\n",
    "\n",
    "$$Varianza$$"
   ]
  },
  {
   "cell_type": "markdown",
   "metadata": {},
   "source": [
    "#### 2. Con lo anterior...\n",
    "- podemos variar $w$ con pasos pequeños entre $0$ y $1$, y\n",
    "- calcular el rendimiento esperado y volatilidad para cada valor de $w$."
   ]
  },
  {
   "cell_type": "code",
   "execution_count": 4,
   "metadata": {},
   "outputs": [],
   "source": [
    "# Vector de w variando entre 0 y 1 con n pasos\n",
    "\n",
    "# Rendimientos esperados individuales\n",
    "\n",
    "# Volatilidades individuales\n"
   ]
  },
  {
   "cell_type": "code",
   "execution_count": 10,
   "metadata": {},
   "outputs": [],
   "source": [
    "# Crear un DataFrame cuyas columnas sean rendimiento\n",
    "# y volatilidad del portafolio para cada una de las w\n",
    "# generadas\n"
   ]
  },
  {
   "cell_type": "markdown",
   "metadata": {},
   "source": [
    "#### 3. Finalmente, \n",
    "- cada una de las combinaciones las podemos graficar en el espacio de rendimiento esperado (eje $y$) contra volatilidad (eje $x$)."
   ]
  },
  {
   "cell_type": "code",
   "execution_count": 6,
   "metadata": {},
   "outputs": [],
   "source": [
    "# Importar matplotlib\n"
   ]
  },
  {
   "cell_type": "code",
   "execution_count": 11,
   "metadata": {},
   "outputs": [],
   "source": [
    "# Graficar el lugar geométrico del portafolio en el\n",
    "# espacio rendimiento esperado vs. volatilidad.\n",
    "# Especificar también los puntos relativos a los casos\n",
    "# extremos.\n"
   ]
  },
  {
   "cell_type": "markdown",
   "metadata": {},
   "source": [
    "#### De la gráfica,\n",
    "1. Ver casos extremos.\n",
    "2. ¿Conviene invertir 100% en el mercado de EU? ¿Porqué?\n",
    "3. ¿Porqué ocurre esto?\n",
    "4. Definición: frontera de mínima varianza. Caso particular: dos activos.\n",
    "5. Definición: portafolios eficientes.\n",
    "6. Definición: portafolio de varianza mínima.\n",
    "___"
   ]
  },
  {
   "cell_type": "markdown",
   "metadata": {},
   "source": [
    "## 2. ¿Cómo hallar el portafolio de varianza mínima?\n",
    "\n",
    "Bien, esta será nuestra primera selección de portafolio. Si bien se hace de manera básica e intuitiva, nos servirá como introducción al siguiente módulo. \n",
    "\n",
    "**Comentario:** estrictamente, el portafolio que está más a la izquierda en la curva de arriba es el de *volatilidad mínima*. Sin embargo, como tanto la volatilidad es una medida siempre positiva, minimizar la volatilidad equivale a minimizar la varianza. Por lo anterior, llamamos a dicho portafolio, el portafolio de *varianza mínima*."
   ]
  },
  {
   "cell_type": "markdown",
   "metadata": {},
   "source": [
    "De modo que la búsqueda del portafolio de varianza mínima corresponde a la solución del siguiente problema de optimización:\n",
    "\n",
    "- Para un portafolio con $n$ activos ($\\boldsymbol{w}=[w_1,\\dots,w_n]^T\\in\\mathbb{R}^n$):\n",
    "\\begin{align*}\n",
    "&\\min_{\\boldsymbol{w}}\\sigma_p^2=\\boldsymbol{w}^T\\Sigma\\boldsymbol{w}\\\\\n",
    "&\\text{s.t.} \\qquad\\boldsymbol{w}\\geq0,\n",
    "\\end{align*}\n",
    "donde $\\Sigma$ es la matriz de varianza-covarianza de los rendimientos de los $n$ activos."
   ]
  },
  {
   "cell_type": "markdown",
   "metadata": {},
   "source": [
    "- En particular, para un portafolio con dos activos el problema anterior se reduce a:\n",
    "\\begin{align*}\n",
    "&\\min_{w_1,w_2}\\sigma_p^2=w_1^2\\sigma_1^2+w_2^2\\sigma_2^2+2w_1w_2\\rho_{12}\\sigma_1\\sigma_2\\\\\n",
    "&\\text{s.t.} \\qquad w_1,w_2\\geq0,\n",
    "\\end{align*}\n",
    "donde $\\sigma_1,\\sigma_2$ son las volatilidades de los activos individuales y $\\rho_{12}$ es la correlación entre los activos. Equivalentemente, haciendo $w_1=w$ y $w_2=1-w$, el problema anterior se puede reescribir de la siguiente manera:\n",
    "\\begin{align*}\n",
    "&\\min_{w}\\sigma_p^2=w^2\\sigma_1^2+(1-w)^2\\sigma_2^2+2w(1-w)\\rho_{12}\\sigma_1\\sigma_2\\\\\n",
    "&\\text{s.t.} \\qquad 0\\leq w\\leq1,\n",
    "\\end{align*}"
   ]
  },
  {
   "cell_type": "markdown",
   "metadata": {},
   "source": [
    "1. Los anteriores son problemas de **programación cuadrática** (función convexa sobre dominio convexo: mínimo absoluto asegurado). \n",
    "2. Existen diversos algoritmos para problemas de programación cuadrática. Por ejemplo, en la librería cvxopt. Más adelante la instalaremos y la usaremos.\n",
    "3. En scipy.optimize no hay un algoritmo dedicado a la solución de este tipo de problemas de optimización. Sin embargo, la función mínimize nos permite resolver problemas de optimización en general (es un poco limitada, pero nos sirve por ahora)."
   ]
  },
  {
   "cell_type": "markdown",
   "metadata": {},
   "source": [
    "### 2.1. Antes de resolver el problema con la función minimize: resolverlo a mano en el tablero."
   ]
  },
  {
   "cell_type": "markdown",
   "metadata": {},
   "source": [
    "**Conclusiones:**"
   ]
  },
  {
   "cell_type": "markdown",
   "metadata": {},
   "source": [
    "### 2.2. Ahora sí, con la función scipy.optimize.minimize"
   ]
  },
  {
   "cell_type": "code",
   "execution_count": 12,
   "metadata": {},
   "outputs": [],
   "source": [
    "# Importar el módulo optimize\n"
   ]
  },
  {
   "cell_type": "code",
   "execution_count": 9,
   "metadata": {},
   "outputs": [],
   "source": [
    "# Función minimize\n"
   ]
  },
  {
   "cell_type": "code",
   "execution_count": 25,
   "metadata": {},
   "outputs": [],
   "source": [
    "# Función objetivo\n"
   ]
  },
  {
   "cell_type": "code",
   "execution_count": 24,
   "metadata": {},
   "outputs": [],
   "source": [
    "# Dato inicial\n",
    "\n",
    "# Volatilidades individuales y covarianza\n",
    "\n",
    "\n",
    "\n",
    "# Cota de w\n"
   ]
  },
  {
   "cell_type": "code",
   "execution_count": 27,
   "metadata": {},
   "outputs": [],
   "source": [
    "# Solución\n"
   ]
  },
  {
   "cell_type": "code",
   "execution_count": 28,
   "metadata": {},
   "outputs": [],
   "source": [
    "# Graficar el portafolio de varianza mínima\n",
    "# sobre el mismo gráfico realizado anteriormente\n"
   ]
  },
  {
   "cell_type": "markdown",
   "metadata": {},
   "source": [
    "___"
   ]
  },
  {
   "cell_type": "markdown",
   "metadata": {},
   "source": [
    "## 3. Ahora, para tres activos, obtengamos la frontera de mínima varianza"
   ]
  },
  {
   "cell_type": "code",
   "execution_count": 29,
   "metadata": {},
   "outputs": [],
   "source": [
    "import scipy.optimize as opt"
   ]
  },
  {
   "cell_type": "code",
   "execution_count": 67,
   "metadata": {},
   "outputs": [],
   "source": [
    "## Construcción de parámetros\n",
    "## Activo 1: EU, Activo 2: Japon, Activo 3: RU\n",
    "# 1. Sigma: matriz de varianza-covarianza\n",
    "s1 = annual_ret_summ['EU']['Volatilidad']\n",
    "s2 = annual_ret_summ['Japon']['Volatilidad']\n",
    "s3 = annual_ret_summ['RU']['Volatilidad']\n",
    "s12 = corr['EU']['Japon']*s1*s2\n",
    "s13 = corr['EU']['RU']*s1*s3\n",
    "s23 = corr['Japon']['RU']*s2*s3\n",
    "Sigma = np.array([[s1**2, s12, s13],\n",
    "                  [s12, s2**2, s23],\n",
    "                  [s13, s23, s3**2]])\n",
    "# 2. Eind: rendimientos esperados activos individuales\n",
    "E1 = annual_ret_summ['EU']['Media']\n",
    "E2 = annual_ret_summ['Japon']['Media']\n",
    "E3 = annual_ret_summ['RU']['Media']\n",
    "Eind = np.array([E1, E2, E3])\n",
    "# 3. Ereq: rendimientos requeridos para el portafolio\n",
    "# Número de portafolios\n",
    "N = 20\n",
    "Ereq = np.linspace(Eind.min(), Eind.max(), N)"
   ]
  },
  {
   "cell_type": "code",
   "execution_count": 68,
   "metadata": {},
   "outputs": [],
   "source": [
    "def varianza(w, Sigma):\n",
    "    return w.dot(Sigma).dot(w)\n",
    "def rendimiento_req(w, Eind, Ereq):\n",
    "    return Eind.dot(w)-Ereq"
   ]
  },
  {
   "cell_type": "code",
   "execution_count": 69,
   "metadata": {},
   "outputs": [],
   "source": [
    "# Dato inicial\n",
    "w0 = np.zeros(3,)\n",
    "# Cotas de las variables\n",
    "bnds = ((0,None), (0,None), (0,None))"
   ]
  },
  {
   "cell_type": "code",
   "execution_count": 70,
   "metadata": {},
   "outputs": [],
   "source": [
    "# DataFrame de portafolios de la frontera\n",
    "portfolios3 = pd.DataFrame(index=range(N), columns=['w1', 'w2', 'w3', 'Ret', 'Vol'])\n",
    "\n",
    "# Construcción de los N portafolios de la frontera\n",
    "for i in range(N):\n",
    "    # Restricciones\n",
    "    cons = ({'type': 'eq', 'fun': rendimiento_req, 'args': (Eind,Ereq[i])},\n",
    "            {'type': 'eq', 'fun': lambda w: np.sum(w)-1})\n",
    "    # Portafolio de mínima varianza para nivel de rendimiento esperado Ereq[i]\n",
    "    min_var = opt.minimize(varianza, w0, args=(Sigma,), bounds=bnds, constraints=cons)\n",
    "    # Pesos, rendimientos y volatilidades de los portafolio\n",
    "    portfolios3.loc[i,['w1','w2','w3']] = min_var.x\n",
    "    portfolios3['Ret'][i] = rendimiento_req(min_var.x, Eind, Ereq[i])+Ereq[i]\n",
    "    portfolios3['Vol'][i] = np.sqrt(varianza(min_var.x, Sigma))"
   ]
  },
  {
   "cell_type": "code",
   "execution_count": 71,
   "metadata": {},
   "outputs": [
    {
     "data": {
      "text/html": [
       "<div>\n",
       "<style scoped>\n",
       "    .dataframe tbody tr th:only-of-type {\n",
       "        vertical-align: middle;\n",
       "    }\n",
       "\n",
       "    .dataframe tbody tr th {\n",
       "        vertical-align: top;\n",
       "    }\n",
       "\n",
       "    .dataframe thead th {\n",
       "        text-align: right;\n",
       "    }\n",
       "</style>\n",
       "<table border=\"1\" class=\"dataframe\">\n",
       "  <thead>\n",
       "    <tr style=\"text-align: right;\">\n",
       "      <th></th>\n",
       "      <th>w1</th>\n",
       "      <th>w2</th>\n",
       "      <th>w3</th>\n",
       "      <th>Ret</th>\n",
       "      <th>Vol</th>\n",
       "    </tr>\n",
       "  </thead>\n",
       "  <tbody>\n",
       "    <tr>\n",
       "      <th>0</th>\n",
       "      <td>1</td>\n",
       "      <td>0</td>\n",
       "      <td>1.18787e-10</td>\n",
       "      <td>0.1355</td>\n",
       "      <td>0.1535</td>\n",
       "    </tr>\n",
       "    <tr>\n",
       "      <th>1</th>\n",
       "      <td>0.913269</td>\n",
       "      <td>0.0867309</td>\n",
       "      <td>0</td>\n",
       "      <td>0.136732</td>\n",
       "      <td>0.146757</td>\n",
       "    </tr>\n",
       "    <tr>\n",
       "      <th>2</th>\n",
       "      <td>0.826538</td>\n",
       "      <td>0.173462</td>\n",
       "      <td>0</td>\n",
       "      <td>0.137963</td>\n",
       "      <td>0.142756</td>\n",
       "    </tr>\n",
       "    <tr>\n",
       "      <th>3</th>\n",
       "      <td>0.74931</td>\n",
       "      <td>0.236024</td>\n",
       "      <td>0.0146665</td>\n",
       "      <td>0.139195</td>\n",
       "      <td>0.141616</td>\n",
       "    </tr>\n",
       "    <tr>\n",
       "      <th>4</th>\n",
       "      <td>0.692207</td>\n",
       "      <td>0.247395</td>\n",
       "      <td>0.0603977</td>\n",
       "      <td>0.140426</td>\n",
       "      <td>0.141819</td>\n",
       "    </tr>\n",
       "    <tr>\n",
       "      <th>5</th>\n",
       "      <td>0.635105</td>\n",
       "      <td>0.258766</td>\n",
       "      <td>0.106129</td>\n",
       "      <td>0.141658</td>\n",
       "      <td>0.142852</td>\n",
       "    </tr>\n",
       "    <tr>\n",
       "      <th>6</th>\n",
       "      <td>0.578003</td>\n",
       "      <td>0.270137</td>\n",
       "      <td>0.15186</td>\n",
       "      <td>0.142889</td>\n",
       "      <td>0.144697</td>\n",
       "    </tr>\n",
       "    <tr>\n",
       "      <th>7</th>\n",
       "      <td>0.520901</td>\n",
       "      <td>0.281508</td>\n",
       "      <td>0.197591</td>\n",
       "      <td>0.144121</td>\n",
       "      <td>0.147325</td>\n",
       "    </tr>\n",
       "    <tr>\n",
       "      <th>8</th>\n",
       "      <td>0.463798</td>\n",
       "      <td>0.292879</td>\n",
       "      <td>0.243323</td>\n",
       "      <td>0.145353</td>\n",
       "      <td>0.150693</td>\n",
       "    </tr>\n",
       "    <tr>\n",
       "      <th>9</th>\n",
       "      <td>0.406696</td>\n",
       "      <td>0.30425</td>\n",
       "      <td>0.289054</td>\n",
       "      <td>0.146584</td>\n",
       "      <td>0.154754</td>\n",
       "    </tr>\n",
       "    <tr>\n",
       "      <th>10</th>\n",
       "      <td>0.349594</td>\n",
       "      <td>0.315621</td>\n",
       "      <td>0.334785</td>\n",
       "      <td>0.147816</td>\n",
       "      <td>0.159454</td>\n",
       "    </tr>\n",
       "    <tr>\n",
       "      <th>11</th>\n",
       "      <td>0.292492</td>\n",
       "      <td>0.326992</td>\n",
       "      <td>0.380516</td>\n",
       "      <td>0.149047</td>\n",
       "      <td>0.16474</td>\n",
       "    </tr>\n",
       "    <tr>\n",
       "      <th>12</th>\n",
       "      <td>0.232073</td>\n",
       "      <td>0.346799</td>\n",
       "      <td>0.421128</td>\n",
       "      <td>0.150279</td>\n",
       "      <td>0.170567</td>\n",
       "    </tr>\n",
       "    <tr>\n",
       "      <th>13</th>\n",
       "      <td>0.176538</td>\n",
       "      <td>0.354184</td>\n",
       "      <td>0.469278</td>\n",
       "      <td>0.151511</td>\n",
       "      <td>0.176853</td>\n",
       "    </tr>\n",
       "    <tr>\n",
       "      <th>14</th>\n",
       "      <td>0.121003</td>\n",
       "      <td>0.361569</td>\n",
       "      <td>0.517429</td>\n",
       "      <td>0.152742</td>\n",
       "      <td>0.183573</td>\n",
       "    </tr>\n",
       "    <tr>\n",
       "      <th>15</th>\n",
       "      <td>0.0654676</td>\n",
       "      <td>0.368954</td>\n",
       "      <td>0.565579</td>\n",
       "      <td>0.153974</td>\n",
       "      <td>0.190682</td>\n",
       "    </tr>\n",
       "    <tr>\n",
       "      <th>16</th>\n",
       "      <td>0.0099325</td>\n",
       "      <td>0.376339</td>\n",
       "      <td>0.613729</td>\n",
       "      <td>0.155205</td>\n",
       "      <td>0.198137</td>\n",
       "    </tr>\n",
       "    <tr>\n",
       "      <th>17</th>\n",
       "      <td>0</td>\n",
       "      <td>0.267735</td>\n",
       "      <td>0.732265</td>\n",
       "      <td>0.156437</td>\n",
       "      <td>0.20806</td>\n",
       "    </tr>\n",
       "    <tr>\n",
       "      <th>18</th>\n",
       "      <td>0</td>\n",
       "      <td>0.133867</td>\n",
       "      <td>0.866133</td>\n",
       "      <td>0.157668</td>\n",
       "      <td>0.223341</td>\n",
       "    </tr>\n",
       "    <tr>\n",
       "      <th>19</th>\n",
       "      <td>0</td>\n",
       "      <td>1.68448e-08</td>\n",
       "      <td>1</td>\n",
       "      <td>0.1589</td>\n",
       "      <td>0.243</td>\n",
       "    </tr>\n",
       "  </tbody>\n",
       "</table>\n",
       "</div>"
      ],
      "text/plain": [
       "           w1           w2           w3       Ret       Vol\n",
       "0           1            0  1.18787e-10    0.1355    0.1535\n",
       "1    0.913269    0.0867309            0  0.136732  0.146757\n",
       "2    0.826538     0.173462            0  0.137963  0.142756\n",
       "3     0.74931     0.236024    0.0146665  0.139195  0.141616\n",
       "4    0.692207     0.247395    0.0603977  0.140426  0.141819\n",
       "5    0.635105     0.258766     0.106129  0.141658  0.142852\n",
       "6    0.578003     0.270137      0.15186  0.142889  0.144697\n",
       "7    0.520901     0.281508     0.197591  0.144121  0.147325\n",
       "8    0.463798     0.292879     0.243323  0.145353  0.150693\n",
       "9    0.406696      0.30425     0.289054  0.146584  0.154754\n",
       "10   0.349594     0.315621     0.334785  0.147816  0.159454\n",
       "11   0.292492     0.326992     0.380516  0.149047   0.16474\n",
       "12   0.232073     0.346799     0.421128  0.150279  0.170567\n",
       "13   0.176538     0.354184     0.469278  0.151511  0.176853\n",
       "14   0.121003     0.361569     0.517429  0.152742  0.183573\n",
       "15  0.0654676     0.368954     0.565579  0.153974  0.190682\n",
       "16  0.0099325     0.376339     0.613729  0.155205  0.198137\n",
       "17          0     0.267735     0.732265  0.156437   0.20806\n",
       "18          0     0.133867     0.866133  0.157668  0.223341\n",
       "19          0  1.68448e-08            1    0.1589     0.243"
      ]
     },
     "execution_count": 71,
     "metadata": {},
     "output_type": "execute_result"
    }
   ],
   "source": [
    "# Portafolios de la frontera\n",
    "portfolios3"
   ]
  },
  {
   "cell_type": "code",
   "execution_count": 72,
   "metadata": {},
   "outputs": [
    {
     "data": {
      "text/plain": [
       "<matplotlib.legend.Legend at 0x7f1bc0fade10>"
      ]
     },
     "execution_count": 72,
     "metadata": {},
     "output_type": "execute_result"
    },
    {
     "data": {
      "image/png": "[encoded data removed]",
      "text/plain": [
       "<Figure size 576x432 with 1 Axes>"
      ]
     },
     "metadata": {},
     "output_type": "display_data"
    }
   ],
   "source": [
    "# Graficamos junto a los portafolios de solo EU y Japón\n",
    "plt.figure(figsize=(8,6))\n",
    "plt.plot(s1,E1,'ro',ms=5,label='EU')\n",
    "plt.plot(s2,E2,'bo',ms=5,label='Japón')\n",
    "plt.plot(s3,E3,'co',ms=5,label='RU')\n",
    "plt.plot(portfolios3.Vol, portfolios3.Ret, 'k-', lw=2, label='Portafolios 3 act')\n",
    "plt.xlabel('Volatilidad ($\\sigma$)')\n",
    "plt.ylabel('Rendimiento esperado ($E[r]$)')\n",
    "plt.grid()\n",
    "#plt.axis([0.14,0.15,0.135,0.142])\n",
    "plt.legend(loc='best')"
   ]
  },
  {
   "cell_type": "markdown",
   "metadata": {},
   "source": [
    "**Conclusión.** Mayor diversificación.\n",
    "___"
   ]
  },
  {
   "cell_type": "markdown",
   "metadata": {},
   "source": [
    "## 4. Comentarios acerca de la Teoría Moderna de Portafolios.\n",
    "\n",
    "- Todo lo anterior es un abrebocas de lo que llamamos análisis de media-varianza, y que es la base de la teoría moderna de portafolios.\n",
    "- El análisis de media-varianza transformó el mundo de las inversiones cuando fué presentada por primera vez.\n",
    "- Claro, tiene ciertas limitaciones, pero se mantiene como una de las ideas principales en la selección óptima de portafolios."
   ]
  },
  {
   "cell_type": "markdown",
   "metadata": {},
   "source": [
    "### Historia.\n",
    "\n",
    "1. Fue presentada por primera vez por Harry Markowitz en 1950. Acá su [artículo](https://www.google.com/url?sa=t&rct=j&q=&esrc=s&source=web&cd=1&ved=2ahUKEwjd0cOTx8XdAhUVo4MKHcLoBhcQFjAAegQICBAC&url=https%3A%2F%2Fwww.math.ust.hk%2F~maykwok%2Fcourses%2Fma362%2F07F%2Fmarkowitz_JF.pdf&usg=AOvVaw3d29hQoNJVqXvC8zPuixYG).\n",
    "2. Era un joven estudiante de Doctorado (como yo) en la Universidad de Chicago.\n",
    "3. Publicó su tesis doctoral en selección de portafolios en \"Journal of Finance\" en 1952.\n",
    "4. Su contribución transformó por completo la forma en la que entendemos el riesgo.\n",
    "5. Básicamente obtuvo una teoría que analiza como los inversionistas deberían escoger de manera óptima sus portafolios, en otras palabras, cómo distribuir la riqueza de manera óptima en diferentes activos.\n",
    "6. Casi 40 años después, Markowitz ganó el Premio Nobel en economía por esta idea."
   ]
  },
  {
   "cell_type": "markdown",
   "metadata": {},
   "source": [
    "- La suposición detrás del análisis media-varianza es que los rendimientos de los activos pueden ser caracterizados por completo por sus rendimientos esperados y volatilidad.\n",
    "- Por eso es que graficamos activos y sus combinaciones (portafolios) en el espacio de rendimiento esperado contra volatilidad.\n",
    "- El análisis media-varianza es básicamente acerca de la diversificación: la interacción de activos permite que las ganancias de unos compensen las pérdidas de otros.\n",
    "- La diversificación reduce el riesgo total mientras combinemos activos imperfectamente correlacionados. "
   ]
  },
  {
   "cell_type": "markdown",
   "metadata": {},
   "source": [
    "- En el siguiente módulo revisaremos cómo elegir portafolios óptimos como si los inversionistas sólo se preocuparan por medias y varianzas.\n",
    "- ¿Qué pasa si un inversionista también se preocupa por otros momentos (asimetría, curtosis...)?\n",
    "- La belleza del análisis media-varianza es que cuando combinamos activos correlacionados imperfectamente, las varianzas siempre decrecen (no sabemos que pasa con otras medidas de riesgo).\n",
    "- Si a un inversionista le preocupan otras medidas de riesgo, el análisis media-varianza no es el camino."
   ]
  },
  {
   "cell_type": "markdown",
   "metadata": {},
   "source": [
    "- Además, si eres una persona que le gusta el riesgo: quieres encontrar la próxima compañía top que apenas va arrancando (como Google en los 2000) e invertir todo en ella para generar ganancias extraordinarias; entonces la diversificación no es tampoco el camino.\n",
    "- La diversificación, por definición, elimina el riesgo idiosincrático (de cada compañía), y por tanto elimina estos rendimientos altísimos que brindaría un portafolio altamente concentrado."
   ]
  },
  {
   "cell_type": "markdown",
   "metadata": {},
   "source": [
    "# Anuncios parroquiales\n",
    "\n",
    "## 1. Recordar quiz la próxima clase.\n",
    "## 2. Revisar archivo de la Tarea 5.\n",
    "## 3. La próxima clase es de repaso, sin embargo, el repaso no lo hago yo, lo hacen ustedes. Estaremos resolviendo todo tipo de dudas que ustedes planteen acerca de lo visto hasta ahora."
   ]
  },
  {
   "cell_type": "markdown",
   "metadata": {},
   "source": [
    "<script>\n",
    "  $(document).ready(function(){\n",
    "    $('div.prompt').hide();\n",
    "    $('div.back-to-top').hide();\n",
    "    $('nav#menubar').hide();\n",
    "    $('.breadcrumb').hide();\n",
    "    $('.hidden-print').hide();\n",
    "  });\n",
    "</script>\n",
    "\n",
    "<footer id=\"attribution\" style=\"float:right; color:#808080; background:#fff;\">\n",
    "Created with Jupyter by Esteban Jiménez Rodríguez.\n",
    "</footer>"
   ]
  }
 ],
 "metadata": {
  "kernelspec": {
   "display_name": "Python 3",
   "language": "python",
   "name": "python3"
  },
  "language_info": {
   "codemirror_mode": {
    "name": "ipython",
    "version": 3
   },
   "file_extension": ".py",
   "mimetype": "text/x-python",
   "name": "python",
   "nbconvert_exporter": "python",
   "pygments_lexer": "ipython3",
   "version": "3.6.5"
  }
 },
 "nbformat": 4,
 "nbformat_minor": 2
}
