{
 "cells": [
  {
   "cell_type": "markdown",
   "metadata": {},
   "source": [
    "# Modelo de valoración de activos financieros (CAPM)\n",
    "\n",
    "<img style=\"float: right; margin: 0px 0px 15px 15px;\" src=\"https://upload.wikimedia.org/wikipedia/commons/4/48/Capital_market_line_of_CAPM.svg\" width=\"400px\" height=\"400px\" />\n",
    "\n",
    "En el módulo anterior aprendimos \n",
    "- cómo medir la utilidad de los inversionistas; \n",
    "- que el proceso de selección de portafolios tiene dos pasos:\n",
    " - elegir el mejor portafolio de todos los activos riesgosos (EMV: máximo sharpe), y\n",
    " - decidir cuánto invertir en el portafolio EMV y el activo libre de riesgo;\n",
    "- que el proceso de elección del portafolio EMV no involucra preferencias de inversionistas, es decir:\n",
    " - todos los inversionistas tenemos el mismo portafolio EMV;\n",
    "- las preferencias se expresan en el segundo paso: LAC.\n",
    "\n",
    "En este capítulo nos apoyaremos de todo el desarrollo teórico que hicimos en el capítulo pasado para desarrollar el **modelo de valoración de activos financieros (CAPM)**.\n",
    "\n",
    "**Objetivos:**\n",
    "- Entender, intuitivamente, qué es el CAPM.\n",
    "- \n",
    "\n",
    "\n",
    "*Referencia:*\n",
    "- Notas del curso \"Portfolio Selection and Risk Management\", Rice University, disponible en Coursera.\n",
    "- [Notas del curso \"Financial Engineering\", Columbia University](http://www.columbia.edu/~ks20/FE-Notes/FE-Notes-Sigman.html)\n",
    "___"
   ]
  },
  {
   "cell_type": "markdown",
   "metadata": {},
   "source": [
    "## 1. Introducción\n",
    "\n",
    "- ¿Cómo se deben determinar los precios de los activos financieros en el equilibrio?, o\n",
    "- ¿qué debe determinar los rendimientos esperados en equilibrio?\n",
    "\n",
    "En todo el curso hemos desarrollado técnicas analíticas para medir el riesgo y evaluar la compensación de rendimiento al riesgo. En este momento, todos deberíamos estar de acuerdo que el riesgo debe ser premiado... pero, <font color=green> ¿cuánto?</font>"
   ]
  },
  {
   "cell_type": "markdown",
   "metadata": {},
   "source": [
    "En este módulo trabajaremos sobre las bases de la teoría moderna de portafolios que vimos el módulo pasado.\n",
    "- Vimos que la diversificación elimina una parte, más no todo el reisgo.\n",
    "\n",
    "Sucedió que luego de la publicación de la idea de Markowitz, entonces otros tres académicos:\n",
    "- William Sharpe,\n",
    "- John Lintner, y \n",
    "- Fisher Black\n",
    "\n",
    "empezaron a trabajar en el problema de determinar qué parte del riesgo puede ser eliminada mediante diversificación qué parte no. Esto en los años 70."
   ]
  },
  {
   "cell_type": "markdown",
   "metadata": {},
   "source": [
    "- Este esfuerzo, condujo al **modelo de valoración de activos financieros (CAPM - Capital Asset Pricing Model)**.\n",
    "\n",
    "- Intuitivamente, lo que dice el **CAPM** es muy simple: *no debe haber premio por asumir riesgo que puede ser diversificado*.\n",
    "\n",
    "- De manera que para obtener rendimientos (esperados) más altos, se necesita incrementar el nivel de riesgo que no puede ser diversificado, el cual está medido por el $\\beta$.\n",
    "\n",
    "- De forma que el **CAPM** dice que el premio al riesgo de un activo está unicamente determinado por su $\\beta$.\n",
    "\n",
    "- Fue practicado masivamente por inversionistas y analistas durante los 70's, 80's y principios de los 90's, y le dió a Sharpe un Premio Nobel por su contribución al trabajo que compartió con Markowitz."
   ]
  },
  {
   "cell_type": "markdown",
   "metadata": {},
   "source": [
    "<img style=\"float: right; margin: 0px 0px 15px 15px;\" src=\"https://upload.wikimedia.org/wikipedia/commons/f/f5/Eugene_Fama_at_Nobel_Prize%2C_2013.jpg\" width=\"400px\" height=\"400px\" />\n",
    "\n",
    "- Sin embargo, luego de cientos y cientos de estudios empíricos, sabemos que el **CAPM** no funciona tan bien. De hecho, en un estudio publicado en 1992 ([artículo acá](https://www.ivey.uwo.ca/cmsmedia/3775518/the_cross-section_of_expected_stock_returns.pdf)), Eugene Fama y Keneth French dividen todos los activos negociados en 10 grupos basados en sus $\\beta$:\n",
    " - grupo 1: contiene el $10\\%$ de los activos con los betas más bajos;\n",
    " - ...\n",
    " - gurpo 10: contiene el $10\\%$ de los activos con los betas más altos.\n",
    "\n",
    "- Lo que mostraron esencialmente es que no hay relación entre los rendimientos de esos 10 porafolios y sus $\\beta$ promedio. Relación plana.\n",
    "\n",
    "- Para medidados de los 90's todo el mundo pensó que el **CAPM** estaba muerto, y comenzaron a buscar otros modelos de fijación de precio: modelos multifactor (veremos un resumen al final del módulo)."
   ]
  },
  {
   "cell_type": "markdown",
   "metadata": {},
   "source": [
    "- ¿Porqué estudiamos entonces **CAPM** si sabemos que no es correcto? Bien, **CAPM** es aún ampliamente usado y provee un marco de trabajo e ideas intuitivas que nos ayudan a pensar acerca del riesgo. \n",
    "\n",
    "- También, entender el **CAPM** y sus fallas es fundamental para entender otros modelos.\n",
    "___"
   ]
  },
  {
   "cell_type": "markdown",
   "metadata": {},
   "source": [
    "## 2. De la selección óptima de portagolios al CAPM"
   ]
  },
  {
   "cell_type": "code",
   "execution_count": null,
   "metadata": {},
   "outputs": [],
   "source": []
  },
  {
   "cell_type": "code",
   "execution_count": null,
   "metadata": {},
   "outputs": [],
   "source": []
  },
  {
   "cell_type": "code",
   "execution_count": null,
   "metadata": {},
   "outputs": [],
   "source": []
  },
  {
   "cell_type": "code",
   "execution_count": null,
   "metadata": {},
   "outputs": [],
   "source": []
  },
  {
   "cell_type": "code",
   "execution_count": null,
   "metadata": {},
   "outputs": [],
   "source": []
  },
  {
   "cell_type": "code",
   "execution_count": null,
   "metadata": {},
   "outputs": [],
   "source": []
  },
  {
   "cell_type": "code",
   "execution_count": null,
   "metadata": {},
   "outputs": [],
   "source": []
  },
  {
   "cell_type": "code",
   "execution_count": null,
   "metadata": {},
   "outputs": [],
   "source": []
  },
  {
   "cell_type": "code",
   "execution_count": null,
   "metadata": {},
   "outputs": [],
   "source": []
  },
  {
   "cell_type": "code",
   "execution_count": null,
   "metadata": {},
   "outputs": [],
   "source": []
  },
  {
   "cell_type": "code",
   "execution_count": null,
   "metadata": {},
   "outputs": [],
   "source": []
  },
  {
   "cell_type": "code",
   "execution_count": null,
   "metadata": {},
   "outputs": [],
   "source": []
  },
  {
   "cell_type": "code",
   "execution_count": null,
   "metadata": {},
   "outputs": [],
   "source": []
  },
  {
   "cell_type": "markdown",
   "metadata": {},
   "source": [
    "<script>\n",
    "  $(document).ready(function(){\n",
    "    $('div.prompt').hide();\n",
    "    $('div.back-to-top').hide();\n",
    "    $('nav#menubar').hide();\n",
    "    $('.breadcrumb').hide();\n",
    "    $('.hidden-print').hide();\n",
    "  });\n",
    "</script>\n",
    "\n",
    "<footer id=\"attribution\" style=\"float:right; color:#808080; background:#fff;\">\n",
    "Created with Jupyter by Esteban Jiménez Rodríguez.\n",
    "</footer>"
   ]
  }
 ],
 "metadata": {
  "kernelspec": {
   "display_name": "Python 3",
   "language": "python",
   "name": "python3"
  },
  "language_info": {
   "codemirror_mode": {
    "name": "ipython",
    "version": 3
   },
   "file_extension": ".py",
   "mimetype": "text/x-python",
   "name": "python",
   "nbconvert_exporter": "python",
   "pygments_lexer": "ipython3",
   "version": "3.6.5"
  }
 },
 "nbformat": 4,
 "nbformat_minor": 2
}
