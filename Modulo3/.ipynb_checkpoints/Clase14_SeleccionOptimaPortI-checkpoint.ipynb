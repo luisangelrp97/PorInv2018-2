{
 "cells": [
  {
   "cell_type": "markdown",
   "metadata": {},
   "source": [
    "# Selección óptima de portafolios I\n",
    "\n",
    "<img style=\"float: right; margin: 0px 0px 15px 15px;\" src=\"https://upload.wikimedia.org/wikipedia/commons/thumb/6/6e/Separation_theorem_of_MPT.svg/2000px-Separation_theorem_of_MPT.svg.png\" width=\"400px\" height=\"400px\" />\n",
    "\n",
    "En la clase pasada vimos que:\n",
    "- La LAC describe las posibles selecciones de riesgo-rendimiento entre un activo libre de riesgo y un activo riesgoso.\n",
    "- Su pendiente es igual al radio de Sharpe del activo riesgoso.\n",
    "- La asignación óptima de capital para cualquier inversionista es el punto tangente de la curva de indiferencia del inversionista con la LAC.\n",
    "\n",
    "Para todo lo anterior, supusimos que ya teníamos el portafolio óptimo (activo riesgoso).\n",
    "\n",
    "En el siguiente análisis:\n",
    " \n",
    "\n",
    "**Objetivos:**\n",
    "- ¿Cuál es el portafolio óptimo de activos riesgosos?\n",
    " - ¿Cuál es el mejor portafolio de activos riesgosos?\n",
    " - Es un portafolio eficiente en media-varianza.\n",
    "- Problema: dado un conjunto de activos riesgosos, ¿cómo construimos la mejor combinación?\n",
    "\n",
    "*Referencia:*\n",
    "- Notas del curso \"Portfolio Selection and Risk Management\", Rice University, disponible en Coursera.\n",
    "___ "
   ]
  },
  {
   "cell_type": "markdown",
   "metadata": {},
   "source": [
    "## 1. Maximizando el radio de Sharpe\n",
    "\n",
    "### 1.1. ¿Qué pasa si tenemos más de un activo riesgoso?\n",
    "\n",
    "Cuando tenemos dos activos riesgosos, tenemos disponibles diferentes LAC.\n",
    "\n",
    "<font color=blue> Ver en el tablero.</font>\n",
    "\n",
    "Pregunta:\n",
    "- ¿Qué es lo que se quiere?"
   ]
  },
  {
   "cell_type": "markdown",
   "metadata": {},
   "source": [
    "**Conclusión:** el *portafolio tangente* da la LAC más pendiente. Por tanto, maximiza el radio de Sharpe para todos los posibles portafolios de activos riesgosos. Este portafolio se conoce como el portafolio eficiente en media-varianza (EMV)."
   ]
  },
  {
   "cell_type": "markdown",
   "metadata": {},
   "source": [
    "**Idea principal: el portafolio óptimo de activos riesgosos es independiente de las preferencias del inversionista.** \n",
    "- El portafolio EMV determina el portafolio óptimo de activos riesgosos.\n",
    "- Todos tendremos el mismo portafolio de activos riesgosos (EMV), y lo combinaremos con el activo libre de reisgo de acuerdo con las preferencias de cada uno de nosotros (aversión al riesgo).\n",
    "- La LAC combinando el activo libre de riesgo y el portafolio EMV, se vuelve el conjunto de portafolios eficientes."
   ]
  },
  {
   "cell_type": "markdown",
   "metadata": {},
   "source": [
    "Entonces, se deben seguir los siguientes pasos:\n",
    "1. Crear la frontera media-varianza.\n",
    "2. Encontrar el portafolio que maximize el radio de Sharpe (portafolio EMV).\n",
    "3. Construir la frontera eficiente (LAC) del punto $(0,r_f)$ al punto $(E[r_s],\\sigma_s)$ del portafolio EMV.\n",
    "4. Combinar de acuerdo a sus preferencias.\n",
    "___"
   ]
  },
  {
   "cell_type": "markdown",
   "metadata": {},
   "source": [
    "## 2. Solución analítica del portafolio EMV: caso con dos activos.\n",
    "\n",
    "Queremos solucionar el siguiente problema:\n",
    "\n",
    "\\begin{align}\n",
    "\\max_{w_1,w_2} &\\quad \\frac{E[r_p]-r_f}{\\sigma_p}\\\\\n",
    "\\text{s.a.}    &\\quad E[r_p]=w_1E[r_1]+w_2E[r_2]\\\\\n",
    "               &\\quad \\sigma_p=\\sqrt{w_1^2\\sigma_1^2+w_2^2\\sigma_2^2+2w_1w_2\\rho_{12}\\sigma_1\\sigma_2}\\\\\n",
    "               &\\quad w_1+w_2=1, \\quad w_1,w_2\\geq0\n",
    "\\end{align}"
   ]
  },
  {
   "cell_type": "markdown",
   "metadata": {},
   "source": [
    "el cual es equivalente a\n",
    "\n",
    "\\begin{align}\n",
    "\\max_{w_1} &\\quad \\frac{w_1E[r_1]+(1-w_1)E[r_2]-r_f}{\\sqrt{w_1^2\\sigma_1^2+(1-w_1)^2\\sigma_2^2+2w_1(1-w_1)\\rho_{12}\\sigma_1\\sigma_2}}\\\\\n",
    "\\text{s.a.}    &\\quad 0\\leq w_1\\leq1\n",
    "\\end{align}"
   ]
  },
  {
   "cell_type": "markdown",
   "metadata": {},
   "source": [
    "**Actividad.**\n",
    "El anterior es un problema de maximizar una función de una variable en un dominio cerrado. No debaría representar dificultad.\n",
    "\n",
    "Encontrar la solución analítica a este problema.\n",
    "\n",
    "Quien primero lo haga, y salga a explicarlo al tablero, le subo alguna tarea o el primer examen a 100.\n",
    "\n",
    "Deben llegar a:\n",
    "\n",
    "$$w_{1,EMV}=\\frac{(E[r_1]-r_f)\\sigma_2^2-(E[r_2]-r_f)\\sigma_{12}}{(E[r_2]-r_f)\\sigma_1^2+(E[r_1]-r_f)\\sigma_2^2-((E[r_1]-r_f)+(E[r_2]-r_f))\\sigma_{12}}.$$"
   ]
  },
  {
   "cell_type": "markdown",
   "metadata": {},
   "source": [
    "Si nadie lo ha hecho en 25 min., procederé a hacerlo yo."
   ]
  },
  {
   "cell_type": "markdown",
   "metadata": {},
   "source": [
    "<script>\n",
    "  $(document).ready(function(){\n",
    "    $('div.prompt').hide();\n",
    "    $('div.back-to-top').hide();\n",
    "    $('nav#menubar').hide();\n",
    "    $('.breadcrumb').hide();\n",
    "    $('.hidden-print').hide();\n",
    "  });\n",
    "</script>\n",
    "\n",
    "<footer id=\"attribution\" style=\"float:right; color:#808080; background:#fff;\">\n",
    "Created with Jupyter by Esteban Jiménez Rodríguez.\n",
    "</footer>"
   ]
  }
 ],
 "metadata": {
  "kernelspec": {
   "display_name": "Python 3",
   "language": "python",
   "name": "python3"
  },
  "language_info": {
   "codemirror_mode": {
    "name": "ipython",
    "version": 3
   },
   "file_extension": ".py",
   "mimetype": "text/x-python",
   "name": "python",
   "nbconvert_exporter": "python",
   "pygments_lexer": "ipython3",
   "version": "3.6.5"
  }
 },
 "nbformat": 4,
 "nbformat_minor": 2
}
